{
 "cells": [
  {
   "cell_type": "code",
   "execution_count": 1,
   "id": "232e62b2",
   "metadata": {},
   "outputs": [],
   "source": [
    "import numpy as np\n",
    "import pandas as pd\n",
    "import matplotlib.pyplot as plt\n",
    "from functools import reduce\n",
    "import importlib\n",
    "import datetime as dt\n",
    "from datetime import datetime\n",
    "\n",
    "from pandas import concat\n",
    "\n",
    "from math import sqrt\n",
    "\n",
    "from sklearn import preprocessing\n",
    "\n",
    "from pandas import concat\n",
    "from sklearn.preprocessing import LabelEncoder\n",
    "from sklearn.preprocessing import MinMaxScaler\n",
    "\n",
    "from sklearn import metrics\n",
    "from sklearn import preprocessing as prep\n",
    "from sklearn.metrics import mean_squared_error\n",
    "from sklearn.metrics import mean_absolute_error\n",
    "from sklearn.model_selection import RandomizedSearchCV, GridSearchCV\n",
    "from sklearn.model_selection import StratifiedKFold\n",
    "from sklearn.base import BaseEstimator, TransformerMixin\n",
    "from sklearn.metrics import accuracy_score, make_scorer\n",
    "from xgboost import XGBRegressor\n",
    "from sklearn.ensemble import RandomForestRegressor"
   ]
  },
  {
   "cell_type": "code",
   "execution_count": 2,
   "id": "fde608fa",
   "metadata": {},
   "outputs": [
    {
     "name": "stderr",
     "output_type": "stream",
     "text": [
      "C:\\ProgramData\\Anaconda3\\lib\\site-packages\\IPython\\core\\interactiveshell.py:3444: DtypeWarning: Columns (231) have mixed types.Specify dtype option on import or set low_memory=False.\n",
      "  exec(code_obj, self.user_global_ns, self.user_ns)\n"
     ]
    }
   ],
   "source": [
    "date_format=\"%m/%d/%Y %H:%M\"\n",
    "date_parse = lambda date: dt.datetime.strptime(date, date_format)\n",
    "dat = pd.read_csv(\"C:/Users/coconnor/Documents/BM_data.csv\", index_col=\"SettlementPeriod\", parse_dates=True, date_parser=date_parse)\n",
    "\n",
    "# dat = pd.read_csv(\"C:/Users/ciara/Downloads/TimerSeries1.csv\", index_col=\"DeliveryPeriod\", parse_dates=True, date_parser=date_parse)\n",
    "dat = dat.drop([\"index\"], axis=1)\n",
    "dat=pd.DataFrame(dat)\n",
    "dat=dat._get_numeric_data()"
   ]
  },
  {
   "cell_type": "code",
   "execution_count": 3,
   "id": "8c9989cd",
   "metadata": {},
   "outputs": [],
   "source": [
    "from sklearn.utils import check_array\n",
    "def MAPE(Y_test, preds): \n",
    "    Y_test, preds = np.array(Y_test), np.array(preds)\n",
    "    return np.mean(np.abs((Y_test - preds) / Y_test)) * 100"
   ]
  },
  {
   "cell_type": "code",
   "execution_count": 4,
   "id": "204f2c44",
   "metadata": {},
   "outputs": [],
   "source": [
    "dat=dat.bfill(axis ='rows')\n",
    "dat=dat.ffill(axis ='rows')"
   ]
  },
  {
   "cell_type": "code",
   "execution_count": 7,
   "id": "5c26295a",
   "metadata": {},
   "outputs": [],
   "source": [
    "Errors_000=[]\n",
    "n=0\n",
    "for i in range(0,45000, 48):\n",
    "    Y=dat.iloc[:, 0:16]\n",
    "    Y_train=Y.iloc[2+i:50+i,:]\n",
    "    Y_test=Y.iloc[50+i:98+i,:]\n",
    "    \n",
    "    mse = mean_squared_error(Y_test, Y_train)\n",
    "    rmse = sqrt(mean_squared_error(Y_test,Y_train))\n",
    "    mae = mean_absolute_error(Y_test, Y_train)\n",
    "\n",
    "    Error_i = ([mse, rmse, mae])\n",
    "    Errors_000.append(Error_i)\n",
    "    Errors_A=pd.DataFrame(Errors_000)"
   ]
  },
  {
   "cell_type": "code",
   "execution_count": 8,
   "id": "6e957b58",
   "metadata": {},
   "outputs": [
    {
     "name": "stdout",
     "output_type": "stream",
     "text": [
      "71.5373828371354\n"
     ]
    },
    {
     "data": {
      "image/png": "[encoded data removed]",
      "text/plain": [
       "<Figure size 432x288 with 1 Axes>"
      ]
     },
     "metadata": {
      "needs_background": "light"
     },
     "output_type": "display_data"
    }
   ],
   "source": [
    "plt.plot(Errors_A[1])\n",
    "print(Errors_A[1].mean())"
   ]
  },
  {
   "cell_type": "code",
   "execution_count": 9,
   "id": "c09b6b35",
   "metadata": {},
   "outputs": [],
   "source": [
    "Errors_000=[]\n",
    "for i in range(0, 45000, 16):\n",
    "    Y=dat.iloc[:, :16]\n",
    "    Y_train=Y.iloc[2+i:3+i,:]\n",
    "    Y_test=Y.iloc[50+i:51+i,:]\n",
    "    \n",
    "    mse = mean_squared_error(Y_test, Y_train)\n",
    "    rmse = sqrt(mean_squared_error(Y_test,Y_train))\n",
    "    mae = mean_absolute_error(Y_test, Y_train)\n",
    "\n",
    "    Error_i = ([mse, rmse, mae])\n",
    "    Errors_000.append(Error_i)\n",
    "    Errors_B=pd.DataFrame(Errors_000)"
   ]
  },
  {
   "cell_type": "code",
   "execution_count": 10,
   "id": "ccfba19b",
   "metadata": {},
   "outputs": [
    {
     "name": "stdout",
     "output_type": "stream",
     "text": [
      "65.19610511110962\n"
     ]
    },
    {
     "data": {
      "image/png": "[encoded data removed]",
      "text/plain": [
       "<Figure size 432x288 with 1 Axes>"
      ]
     },
     "metadata": {
      "needs_background": "light"
     },
     "output_type": "display_data"
    }
   ],
   "source": [
    "plt.plot(Errors_B[1])\n",
    "print(Errors_B[1].mean())"
   ]
  },
  {
   "cell_type": "code",
   "execution_count": 11,
   "id": "b2d38c89",
   "metadata": {},
   "outputs": [],
   "source": [
    "Errors_000=[]\n",
    "for i in range(0, 45000, 1):\n",
    "    Y=dat.iloc[:, :16]\n",
    "    Y_train=Y.iloc[2+i:3+i,:]\n",
    "    Y_test=Y.iloc[50+i:51+i,:]\n",
    "    \n",
    "    mse = mean_squared_error(Y_test, Y_train)\n",
    "    rmse = sqrt(mean_squared_error(Y_test,Y_train))\n",
    "    mae = mean_absolute_error(Y_test, Y_train)\n",
    "\n",
    "    Error_i = ([mse, rmse, mae])\n",
    "    Errors_000.append(Error_i)\n",
    "    Errors_C=pd.DataFrame(Errors_000)"
   ]
  },
  {
   "cell_type": "code",
   "execution_count": 12,
   "id": "e902c840",
   "metadata": {},
   "outputs": [
    {
     "name": "stdout",
     "output_type": "stream",
     "text": [
      "64.87753168651587\n"
     ]
    },
    {
     "data": {
      "image/png": "[encoded data removed]",
      "text/plain": [
       "<Figure size 432x288 with 1 Axes>"
      ]
     },
     "metadata": {
      "needs_background": "light"
     },
     "output_type": "display_data"
    }
   ],
   "source": [
    "plt.plot(Errors_C[1])\n",
    "print(Errors_C[1].mean())"
   ]
  },
  {
   "cell_type": "code",
   "execution_count": null,
   "id": "ac3f55e9",
   "metadata": {},
   "outputs": [],
   "source": []
  }
 ],
 "metadata": {
  "kernelspec": {
   "display_name": "Python 3 (ipykernel)",
   "language": "python",
   "name": "python3"
  },
  "language_info": {
   "codemirror_mode": {
    "name": "ipython",
    "version": 3
   },
   "file_extension": ".py",
   "mimetype": "text/x-python",
   "name": "python",
   "nbconvert_exporter": "python",
   "pygments_lexer": "ipython3",
   "version": "3.9.7"
  }
 },
 "nbformat": 4,
 "nbformat_minor": 5
}
