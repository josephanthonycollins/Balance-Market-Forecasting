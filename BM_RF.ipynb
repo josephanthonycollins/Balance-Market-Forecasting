{
 "cells": [
  {
   "cell_type": "code",
   "execution_count": 20,
   "id": "695c2290",
   "metadata": {},
   "outputs": [],
   "source": [
    "import numpy as np\n",
    "import pandas as pd\n",
    "import matplotlib.pyplot as plt\n",
    "from functools import reduce\n",
    "import importlib\n",
    "import datetime as dt\n",
    "from datetime import datetime\n",
    "\n",
    "from pandas import concat\n",
    "\n",
    "from math import sqrt\n",
    "\n",
    "from sklearn import preprocessing\n",
    "\n",
    "from pandas import concat\n",
    "from sklearn.preprocessing import LabelEncoder\n",
    "from sklearn.preprocessing import MinMaxScaler\n",
    "\n",
    "from sklearn import metrics\n",
    "from sklearn import preprocessing as prep\n",
    "from sklearn.metrics import mean_squared_error\n",
    "from sklearn.metrics import mean_absolute_error\n",
    "from sklearn.model_selection import RandomizedSearchCV, GridSearchCV\n",
    "from sklearn.model_selection import StratifiedKFold\n",
    "from sklearn.base import BaseEstimator, TransformerMixin\n",
    "from sklearn.metrics import accuracy_score, make_scorer\n",
    "from xgboost import XGBRegressor\n",
    "from sklearn.ensemble import RandomForestRegressor"
   ]
  },
  {
   "cell_type": "code",
   "execution_count": 21,
   "id": "4f5f788d",
   "metadata": {},
   "outputs": [],
   "source": [
    "# date_format=\"%m/%d/%Y %H:%M\"\n",
    "# date_parse = lambda date: dt.datetime.strptime(date, date_format)\n",
    "# data = pd.read_csv(\"C:/Users/coconnor/Documents/BM_data.csv\", index_col=\"SettlementPeriod\", parse_dates=True, date_parser=date_parse)\n",
    "\n",
    "# # dat = pd.read_csv(\"C:/Users/ciara/Downloads/TimerSeries1.csv\", index_col=\"DeliveryPeriod\", parse_dates=True, date_parser=date_parse)\n",
    "# data = data.drop([\"index\"], axis=1)\n",
    "# data=pd.DataFrame(data)\n",
    "# data=data._get_numeric_data()"
   ]
  },
  {
   "cell_type": "code",
   "execution_count": 22,
   "id": "49fd7450",
   "metadata": {},
   "outputs": [
    {
     "name": "stderr",
     "output_type": "stream",
     "text": [
      "C:\\ProgramData\\Anaconda3\\lib\\site-packages\\IPython\\core\\interactiveshell.py:3444: DtypeWarning: Columns (231) have mixed types.Specify dtype option on import or set low_memory=False.\n",
      "  exec(code_obj, self.user_global_ns, self.user_ns)\n"
     ]
    }
   ],
   "source": [
    "date_format=\"%m/%d/%Y %H:%M\"\n",
    "date_parse = lambda date: dt.datetime.strptime(date, date_format)\n",
    "dat = pd.read_csv(\"C:/Users/coconnor/Documents/BM_data.csv\", index_col=\"SettlementPeriod\", parse_dates=True, date_parser=date_parse)\n",
    "\n",
    "# dat = pd.read_csv(\"C:/Users/ciara/Downloads/TimerSeries1.csv\", index_col=\"DeliveryPeriod\", parse_dates=True, date_parser=date_parse)\n",
    "dat = dat.drop([\"index\"], axis=1)\n",
    "dat=pd.DataFrame(dat)\n",
    "dat=dat._get_numeric_data()"
   ]
  },
  {
   "cell_type": "code",
   "execution_count": 23,
   "id": "42cf15b1",
   "metadata": {},
   "outputs": [],
   "source": [
    "from sklearn.utils import check_array\n",
    "def MAPE(Y_test, preds): \n",
    "    Y_test, preds = np.array(Y_test), np.array(preds)\n",
    "    return np.mean(np.abs((Y_test - preds) / Y_test)) * 100"
   ]
  },
  {
   "cell_type": "code",
   "execution_count": 24,
   "id": "58d692c7",
   "metadata": {},
   "outputs": [],
   "source": [
    "dat=dat.bfill(axis ='rows')\n",
    "dat=dat.ffill(axis ='rows')"
   ]
  },
  {
   "cell_type": "code",
   "execution_count": 25,
   "id": "1356b82b",
   "metadata": {},
   "outputs": [],
   "source": [
    "#X=dat.iloc[:, 1:]\n",
    "#Y=dat.iloc[:, 0:1]\n",
    "#X_train=X.iloc[0:4449,:]\n",
    "#Y_train=Y.iloc[0:4449,:]\n",
    "#X_test=X.iloc[4449:5000,:]\n",
    "#Y_test=Y.iloc[4449:5000,:]"
   ]
  },
  {
   "cell_type": "code",
   "execution_count": 26,
   "id": "3bfb80b1",
   "metadata": {},
   "outputs": [],
   "source": [
    "# dat_Y=data.iloc[:, :16]\n",
    "# dat_X=data.iloc[:,16:]\n",
    "\n",
    "# dat_X=dat_X.bfill(axis ='rows')\n",
    "# dat_X=dat_X.ffill(axis ='rows')\n",
    "# dat=pd.concat([dat_Y, dat_X], axis=1)\n",
    "# dat=dat._get_numeric_data()"
   ]
  },
  {
   "cell_type": "code",
   "execution_count": null,
   "id": "80e95934",
   "metadata": {},
   "outputs": [],
   "source": [
    "Errors_000=[]\n",
    "n=30000\n",
    "a=0\n",
    "for i in range(0,5000, 1 ):\n",
    "    Y=dat.iloc[a+i:, 0:16]\n",
    "    X=dat.iloc[a+i:, 16:]\n",
    "    X_train=X.iloc[:n,:]\n",
    "    Y_train=Y.iloc[:n,:]\n",
    "    X_test=X.iloc[n:n+1,:]\n",
    "    Y_test=Y.iloc[n:n+1,:]\n",
    "    \n",
    "    SV = RandomForestRegressor(n_estimators = 200,\n",
    "                        max_features = 35,\n",
    "                        max_depth = 35,\n",
    "                        bootstrap = True,\n",
    "                        min_samples_split= 5,\n",
    "                        min_samples_leaf = 4)    \n",
    "    SV.fit(X_train, Y_train)\n",
    "    preds = SV.predict(X_test)\n",
    "    \n",
    "    mse = mean_squared_error(Y_test, preds)\n",
    "    rmse = sqrt(mean_squared_error(Y_test, preds))\n",
    "    mae = mean_absolute_error(Y_test, preds)\n",
    "\n",
    "    Error_i = ([mse, rmse, mae])\n",
    "    Errors_000.append(Error_i)\n",
    "    Errors_A=pd.DataFrame(Errors_000)\n"
   ]
  },
  {
   "cell_type": "code",
   "execution_count": null,
   "id": "aa6331a0",
   "metadata": {},
   "outputs": [],
   "source": [
    "plt.plot(Errors_A.iloc[:600,2:3])\n",
    "Errors_A.iloc[:600,:].mean()"
   ]
  },
  {
   "cell_type": "code",
   "execution_count": null,
   "id": "24c2d082",
   "metadata": {},
   "outputs": [],
   "source": [
    "plt.plot(Errors_A[2])\n",
    "Errors_A.mean()"
   ]
  },
  {
   "cell_type": "code",
   "execution_count": null,
   "id": "616683d3",
   "metadata": {},
   "outputs": [],
   "source": []
  },
  {
   "cell_type": "code",
   "execution_count": null,
   "id": "6f2edf74",
   "metadata": {},
   "outputs": [],
   "source": [
    "0    83904.347636\n",
    "1      108.461049\n",
    "2       85.290613"
   ]
  },
  {
   "cell_type": "code",
   "execution_count": 19,
   "id": "1f238aa9",
   "metadata": {},
   "outputs": [
    {
     "data": {
      "text/plain": [
       "0    83904.347636\n",
       "1      108.461049\n",
       "2       85.290613\n",
       "dtype: float64"
      ]
     },
     "execution_count": 19,
     "metadata": {},
     "output_type": "execute_result"
    },
    {
     "data": {
      "image/png": "[encoded data removed]",
      "text/plain": [
       "<Figure size 432x288 with 1 Axes>"
      ]
     },
     "metadata": {
      "needs_background": "light"
     },
     "output_type": "display_data"
    }
   ],
   "source": [
    "plt.plot(Errors_A[2])\n",
    "Errors_A.mean()"
   ]
  },
  {
   "cell_type": "code",
   "execution_count": 18,
   "id": "5f15e7e3",
   "metadata": {},
   "outputs": [
    {
     "data": {
      "text/plain": [
       "0    1717.391383\n",
       "1      35.413663\n",
       "2      28.307142\n",
       "dtype: float64"
      ]
     },
     "execution_count": 18,
     "metadata": {},
     "output_type": "execute_result"
    },
    {
     "data": {
      "image/png": "[encoded data removed]",
      "text/plain": [
       "<Figure size 432x288 with 1 Axes>"
      ]
     },
     "metadata": {
      "needs_background": "light"
     },
     "output_type": "display_data"
    }
   ],
   "source": [
    "plt.plot(Errors_A.iloc[:600,2:3])\n",
    "Errors_A.iloc[:600,:].mean()"
   ]
  },
  {
   "cell_type": "code",
   "execution_count": null,
   "id": "6caad5c9",
   "metadata": {},
   "outputs": [],
   "source": [
    "# X=dat.iloc[:, 16:]\n",
    "# Y=dat.iloc[:, 0:16]\n",
    "\n",
    "# X_train=X.iloc[25000:40000,:]\n",
    "# Y_train=Y.iloc[25000:40000,:]\n"
   ]
  },
  {
   "cell_type": "code",
   "execution_count": null,
   "id": "b56cfc86",
   "metadata": {},
   "outputs": [],
   "source": [
    "# def hyperParameterTuning(X_train, Y_train):\n",
    "#        param_tuning = {'bootstrap': [True],\n",
    "#                    'max_depth': [30, 35],\n",
    "#                    'max_features': [35],\n",
    "#                    'min_samples_leaf' : [4],\n",
    "#                    'min_samples_split' : [5],\n",
    "#                    'n_estimators': [ 200, 250, 300]\n",
    "#                   }\n",
    "\n",
    "#        RF_Regressor = RandomForestRegressor()\n",
    "\n",
    "#        gsearch = GridSearchCV(estimator = RF_Regressor,\n",
    "#                           param_grid = param_tuning,                        \n",
    "# #                            scoring = 'neg_mean_absolute_error', #MAE\n",
    "#                            scoring = 'neg_mean_squared_error',  #MSE\n",
    "#                           cv = 5,\n",
    "#                           n_jobs = -1,\n",
    "#                           verbose = 1)\n",
    "\n",
    "#        gsearch.fit(X_train,Y_train)\n",
    "#        return gsearch.best_params_\n",
    "\n",
    "# hyperParameterTuning(X_train, Y_train)"
   ]
  },
  {
   "cell_type": "code",
   "execution_count": null,
   "id": "244c0367",
   "metadata": {},
   "outputs": [],
   "source": []
  },
  {
   "cell_type": "code",
   "execution_count": null,
   "id": "f59ba1fa",
   "metadata": {},
   "outputs": [],
   "source": []
  }
 ],
 "metadata": {
  "kernelspec": {
   "display_name": "Python 3 (ipykernel)",
   "language": "python",
   "name": "python3"
  },
  "language_info": {
   "codemirror_mode": {
    "name": "ipython",
    "version": 3
   },
   "file_extension": ".py",
   "mimetype": "text/x-python",
   "name": "python",
   "nbconvert_exporter": "python",
   "pygments_lexer": "ipython3",
   "version": "3.9.7"
  }
 },
 "nbformat": 4,
 "nbformat_minor": 5
}
